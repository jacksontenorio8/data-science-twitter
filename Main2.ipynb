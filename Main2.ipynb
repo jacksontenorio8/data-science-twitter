{
  "nbformat": 4,
  "nbformat_minor": 0,
  "metadata": {
    "colab": {
      "name": "Main2.ipynb",
      "provenance": [],
      "authorship_tag": "ABX9TyPfp1v+KUqacBaVqmOu5Jow",
      "include_colab_link": true
    },
    "kernelspec": {
      "name": "python3",
      "display_name": "Python 3"
    },
    "language_info": {
      "name": "python"
    }
  },
  "cells": [
    {
      "cell_type": "markdown",
      "metadata": {
        "id": "view-in-github",
        "colab_type": "text"
      },
      "source": [
        "<a href=\"https://colab.research.google.com/github/jacksontenorio8/data-science-twitter/blob/main/Main2.ipynb\" target=\"_parent\"><img src=\"https://colab.research.google.com/assets/colab-badge.svg\" alt=\"Open In Colab\"/></a>"
      ]
    },
    {
      "cell_type": "markdown",
      "source": [
        "#Meu Primeiro App do Twitter"
      ],
      "metadata": {
        "id": "VtFetV9Ip6cl"
      }
    },
    {
      "cell_type": "code",
      "execution_count": null,
      "metadata": {
        "id": "DS3NaxemprAA"
      },
      "outputs": [],
      "source": [
        "from datetime import datetime\n",
        "import json\n",
        "import pandas as pd\n",
        "import numpy as np"
      ]
    },
    {
      "cell_type": "code",
      "source": [
        "consumer_key = 'IL8fyywZIrxBv1CpMXTXCZxxM'\n",
        "consumer_secret = 'jJgZL27emwkXxZWsyl0DNQZAeouDyEGAJPmDEA26OfXd6MNPrP'\n"
      ],
      "metadata": {
        "id": "E1djpFfoqWMU"
      },
      "execution_count": null,
      "outputs": []
    },
    {
      "cell_type": "code",
      "source": [
        "access_token = '1253768184135593984-5Jez1JVai09ZcHqy4Woz2baiKhfbbX'\n",
        "access_token_secret = '5zWs064udQfJWYSAPLAj96SZ4SdFvN4kHTxh3Pd1Dbm4Y'"
      ],
      "metadata": {
        "id": "i_m2aFVVq7RG"
      },
      "execution_count": null,
      "outputs": []
    },
    {
      "cell_type": "code",
      "source": [
        "!pip install TwitterSearch\n",
        "\"\"\"\n",
        "-> Referências:\n",
        "https://pypi.org/project/TwitterSearch/\n",
        "https://twittersearch.readthedocs.io/en/v0.78.2/\n",
        "\"\"\""
      ],
      "metadata": {
        "colab": {
          "base_uri": "https://localhost:8080/",
          "height": 333
        },
        "id": "T4wumudRsnai",
        "outputId": "a7c93d9a-4dc5-4f54-e141-f14c94cf0264"
      },
      "execution_count": null,
      "outputs": [
        {
          "output_type": "stream",
          "name": "stdout",
          "text": [
            "Collecting TwitterSearch\n",
            "  Downloading TwitterSearch-1.0.2.tar.gz (20 kB)\n",
            "Requirement already satisfied: requests>=1.0.0 in /usr/local/lib/python3.7/dist-packages (from TwitterSearch) (2.23.0)\n",
            "Requirement already satisfied: requests-oauthlib>=0.3.0 in /usr/local/lib/python3.7/dist-packages (from TwitterSearch) (1.3.1)\n",
            "Requirement already satisfied: urllib3!=1.25.0,!=1.25.1,<1.26,>=1.21.1 in /usr/local/lib/python3.7/dist-packages (from requests>=1.0.0->TwitterSearch) (1.24.3)\n",
            "Requirement already satisfied: idna<3,>=2.5 in /usr/local/lib/python3.7/dist-packages (from requests>=1.0.0->TwitterSearch) (2.10)\n",
            "Requirement already satisfied: certifi>=2017.4.17 in /usr/local/lib/python3.7/dist-packages (from requests>=1.0.0->TwitterSearch) (2021.10.8)\n",
            "Requirement already satisfied: chardet<4,>=3.0.2 in /usr/local/lib/python3.7/dist-packages (from requests>=1.0.0->TwitterSearch) (3.0.4)\n",
            "Requirement already satisfied: oauthlib>=3.0.0 in /usr/local/lib/python3.7/dist-packages (from requests-oauthlib>=0.3.0->TwitterSearch) (3.2.0)\n",
            "Building wheels for collected packages: TwitterSearch\n",
            "  Building wheel for TwitterSearch (setup.py) ... \u001b[?25l\u001b[?25hdone\n",
            "  Created wheel for TwitterSearch: filename=TwitterSearch-1.0.2-py3-none-any.whl size=18463 sha256=6645afcfa494ebb24aca93f0b00a839f142b19ab7bbc8f2f75327ef302b5b77a\n",
            "  Stored in directory: /root/.cache/pip/wheels/d5/74/5f/f344ffff31a93ee504581a51aad34120bf05bd749493365840\n",
            "Successfully built TwitterSearch\n",
            "Installing collected packages: TwitterSearch\n",
            "Successfully installed TwitterSearch-1.0.2\n"
          ]
        },
        {
          "output_type": "execute_result",
          "data": {
            "text/plain": [
              "'\\n-> Referências:\\nhttps://pypi.org/project/TwitterSearch/\\nhttps://twittersearch.readthedocs.io/en/v0.78.2/\\n'"
            ],
            "application/vnd.google.colaboratory.intrinsic+json": {
              "type": "string"
            }
          },
          "metadata": {},
          "execution_count": 4
        }
      ]
    },
    {
      "cell_type": "code",
      "source": [
        "from TwitterSearch import*\n",
        "\n",
        "try: \n",
        "\n",
        "  ts = TwitterSearch( #Objeto Twitter object\n",
        "                     consumer_key = consumer_key,\n",
        "                     consumer_secret = consumer_secret,\n",
        "                     access_token = access_token,\n",
        "                     access_token_secret= access_token_secret\n",
        "  )\n",
        "\n",
        "  tso = TwitterSearchOrder() #Criei o objeto TwitterSearchOrder\n",
        "  tso.set_keywords(['eleição'], or_operator= True) \n",
        "  tso.set_language('pt')\n",
        "  \n",
        "  for tweet in ts.search_tweets_iterable(tso): #ts.search_tweets_iterable(tso) é um metadata\n",
        "\n",
        "    print('created_at: ',tweet['created_at'], 'User_id: ',tweet['id_str'], 'Tweet: ',tweet['text'])\n",
        "\n",
        "    created_at = tweet['created_at']\n",
        "    User_id = tweet['id_str']\n",
        "    Tweet = tweet['text']\n"
      ],
      "metadata": {
        "colab": {
          "base_uri": "https://localhost:8080/",
          "height": 130
        },
        "id": "PpGHVatDxRZP",
        "outputId": "89a30312-fc4d-4134-e9fa-c999a505aaf0"
      },
      "execution_count": null,
      "outputs": [
        {
          "output_type": "error",
          "ename": "SyntaxError",
          "evalue": "ignored",
          "traceback": [
            "\u001b[0;36m  File \u001b[0;32m\"<ipython-input-5-84a44dcc5ff5>\"\u001b[0;36m, line \u001b[0;32m15\u001b[0m\n\u001b[0;31m    \u001b[0m\n\u001b[0m    ^\u001b[0m\n\u001b[0;31mSyntaxError\u001b[0m\u001b[0;31m:\u001b[0m unexpected EOF while parsing\n"
          ]
        }
      ]
    }
  ]
}