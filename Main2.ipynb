{
  "nbformat": 4,
  "nbformat_minor": 0,
  "metadata": {
    "colab": {
      "name": "Main2.ipynb",
      "provenance": [],
      "authorship_tag": "ABX9TyPO9e85zemS/3yxtekDjV8g",
      "include_colab_link": true
    },
    "kernelspec": {
      "name": "python3",
      "display_name": "Python 3"
    },
    "language_info": {
      "name": "python"
    }
  },
  "cells": [
    {
      "cell_type": "markdown",
      "metadata": {
        "id": "view-in-github",
        "colab_type": "text"
      },
      "source": [
        "<a href=\"https://colab.research.google.com/github/jacksontenorio8/data-science-twitter/blob/main/Main2.ipynb\" target=\"_parent\"><img src=\"https://colab.research.google.com/assets/colab-badge.svg\" alt=\"Open In Colab\"/></a>"
      ]
    },
    {
      "cell_type": "markdown",
      "source": [
        "#Meu Primeiro App do Twitter"
      ],
      "metadata": {
        "id": "VtFetV9Ip6cl"
      }
    },
    {
      "cell_type": "code",
      "execution_count": null,
      "metadata": {
        "id": "DS3NaxemprAA"
      },
      "outputs": [],
      "source": [
        "from datetime import datetime\n",
        "import json\n",
        "import pandas as pd\n",
        "import numpy as np"
      ]
    },
    {
      "cell_type": "code",
      "source": [
        "consumer_key = 'IL8fyywZIrxBv1CpMXTXCZxxM'\n",
        "consumer_secret = 'jJgZL27emwkXxZWsyl0DNQZAeouDyEGAJPmDEA26OfXd6MNPrP'\n"
      ],
      "metadata": {
        "id": "E1djpFfoqWMU"
      },
      "execution_count": null,
      "outputs": []
    },
    {
      "cell_type": "code",
      "source": [
        "access_token = '1253768184135593984-5Jez1JVai09ZcHqy4Woz2baiKhfbbX'\n",
        "access_token_secret = '5zWs064udQfJWYSAPLAj96SZ4SdFvN4kHTxh3Pd1Dbm4Y'"
      ],
      "metadata": {
        "id": "i_m2aFVVq7RG"
      },
      "execution_count": null,
      "outputs": []
    },
    {
      "cell_type": "code",
      "source": [
        "!pip install TwitterSearch\n",
        "\"\"\"\n",
        "-> Referências:\n",
        "https://pypi.org/project/TwitterSearch/\n",
        "https://twittersearch.readthedocs.io/en/v0.78.2/\n",
        "\"\"\""
      ],
      "metadata": {
        "colab": {
          "base_uri": "https://localhost:8080/",
          "height": 194
        },
        "id": "T4wumudRsnai",
        "outputId": "b87ef767-e3a9-422a-f669-51514d62ffb9"
      },
      "execution_count": null,
      "outputs": [
        {
          "output_type": "stream",
          "name": "stdout",
          "text": [
            "Requirement already satisfied: TwitterSearch in /usr/local/lib/python3.7/dist-packages (1.0.2)\n",
            "Requirement already satisfied: requests-oauthlib>=0.3.0 in /usr/local/lib/python3.7/dist-packages (from TwitterSearch) (1.3.1)\n",
            "Requirement already satisfied: requests>=1.0.0 in /usr/local/lib/python3.7/dist-packages (from TwitterSearch) (2.23.0)\n",
            "Requirement already satisfied: urllib3!=1.25.0,!=1.25.1,<1.26,>=1.21.1 in /usr/local/lib/python3.7/dist-packages (from requests>=1.0.0->TwitterSearch) (1.24.3)\n",
            "Requirement already satisfied: certifi>=2017.4.17 in /usr/local/lib/python3.7/dist-packages (from requests>=1.0.0->TwitterSearch) (2021.10.8)\n",
            "Requirement already satisfied: idna<3,>=2.5 in /usr/local/lib/python3.7/dist-packages (from requests>=1.0.0->TwitterSearch) (2.10)\n",
            "Requirement already satisfied: chardet<4,>=3.0.2 in /usr/local/lib/python3.7/dist-packages (from requests>=1.0.0->TwitterSearch) (3.0.4)\n",
            "Requirement already satisfied: oauthlib>=3.0.0 in /usr/local/lib/python3.7/dist-packages (from requests-oauthlib>=0.3.0->TwitterSearch) (3.2.0)\n"
          ]
        },
        {
          "output_type": "execute_result",
          "data": {
            "text/plain": [
              "'\\n-> Referências:\\nhttps://pypi.org/project/TwitterSearch/\\nhttps://twittersearch.readthedocs.io/en/v0.78.2/\\n'"
            ],
            "application/vnd.google.colaboratory.intrinsic+json": {
              "type": "string"
            }
          },
          "metadata": {},
          "execution_count": 9
        }
      ]
    },
    {
      "cell_type": "code",
      "source": [
        "from TwitterSearch import*\n",
        "\n",
        "try: \n",
        "\n",
        "  ts = TwitterSearch( #Objeto Twitter object\n",
        "                     consumer_key = consumer_key,\n",
        "                     consumer_secret = consumer_secret,\n",
        "                     access_token = access_token,\n",
        "                     access_token_secret= access_token_secret\n",
        "  )\n",
        "\n",
        "  tso = TwitterSearchOrder() #Criei o objeto TwitterSearchOrder\n",
        "  tso.set_keywords(['eleição'], or_operator= True) \n",
        "  tso.set_language('pt')\n",
        "  \n",
        "  for tweet in ts.search_tweets_iterable(tso): #ts.search_tweets_iterable(tso) é um metadata\n",
        "\n",
        "    print('created_at: ',tweet['created_at'], 'User_id: ',tweet['id_str'], 'Tweet: ',tweet['text'])\n",
        "\n",
        "    created_at = tweet['created_at']\n",
        "    user_id = tweet['id_str']\n",
        "    texto = tweet['text']\n",
        "\n",
        "    with open('tweet.json', 'a+') as output:\n",
        "\n",
        "      data = {'created_ad': created_at,\n",
        "              'User_id': user_id,\n",
        "              'tweet': texto}\n",
        "      #print(data)\n",
        "      output.write('{}\\n'.format(json.dumps(data)))\n",
        "\n",
        "except TwitterSearchException as e:\n",
        "  print(e)\n",
        "\n",
        "\n",
        "  \n"
      ],
      "metadata": {
        "colab": {
          "base_uri": "https://localhost:8080/"
        },
        "id": "PpGHVatDxRZP",
        "outputId": "ada7acf6-caeb-434d-d463-07b863570389"
      },
      "execution_count": null,
      "outputs": [
        {
          "output_type": "stream",
          "name": "stdout",
          "text": [
            "Error 403: ('Forbidden: The request is understood, but', 'it has been refused or access is not allowed')\n"
          ]
        }
      ]
    }
  ]
}